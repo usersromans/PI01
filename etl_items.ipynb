{
 "cells": [
  {
   "cell_type": "markdown",
   "metadata": {},
   "source": [
    "vamos a realizar un ***ETL*** de los data set de ***Steam*** proporcionados por la plataforma de bootcam de **Henry**.\n",
    "\n",
    "En este caso los datos estan divididos en 3 dataset los cuales son **output_steam_games**, **australian_users_items** y **australian_users_reviews**.\n",
    "\n",
    "En este notebook vamos a realizar el ***ETL*** del archivo **australian_users_items**"
   ]
  },
  {
   "cell_type": "markdown",
   "metadata": {},
   "source": [
    "El archivo presenta porblemas de compatibilidad con **pandas** ya que no es un objeto JSON, su estructura es similar pero esta con comillas simples, por eso tambien usaremos el modulo **ast** para leer el arvhico como un diccionario de **Python**"
   ]
  },
  {
   "cell_type": "code",
   "execution_count": 1,
   "metadata": {},
   "outputs": [
    {
     "name": "stderr",
     "output_type": "stream",
     "text": [
      "C:\\Users\\Carlos Andres\\AppData\\Local\\Temp\\ipykernel_11740\\1157169856.py:2: DeprecationWarning: \n",
      "Pyarrow will become a required dependency of pandas in the next major release of pandas (pandas 3.0),\n",
      "(to allow more performant data types, such as the Arrow string type, and better interoperability with other libraries)\n",
      "but was not found to be installed on your system.\n",
      "If this would cause problems for you,\n",
      "please provide us feedback at https://github.com/pandas-dev/pandas/issues/54466\n",
      "        \n",
      "  import pandas as pd\n"
     ]
    }
   ],
   "source": [
    "### Importamos las librerias necesarias para la lectura \n",
    "import pandas as pd\n",
    "import ast\n",
    "\n",
    "file = './australian_users_items.json'\n",
    "\n",
    "data = []\n",
    "with open(file, 'r', encoding='utf-8') as f:\n",
    "    for line in f:\n",
    "        try:\n",
    "            ### Usamos ast.literal_eval para interpretar la línea como un diccionario de Python\n",
    "            data_dict = ast.literal_eval(line)\n",
    "            data.append(data_dict)\n",
    "        except ValueError as e:\n",
    "            print(f\"Error al interpretar la línea: {e}\")\n",
    "            break  \n",
    "\n",
    "# Convierte la lista de diccionarios a un DataFrame\n",
    "df = pd.DataFrame(data)\n"
   ]
  },
  {
   "cell_type": "markdown",
   "metadata": {},
   "source": [
    "Revisamos como queda nuentro DataFrame y visulizamos las primeras filas"
   ]
  },
  {
   "cell_type": "code",
   "execution_count": 2,
   "metadata": {},
   "outputs": [
    {
     "name": "stdout",
     "output_type": "stream",
     "text": [
      "<class 'pandas.core.frame.DataFrame'>\n",
      "RangeIndex: 88310 entries, 0 to 88309\n",
      "Data columns (total 5 columns):\n",
      " #   Column       Non-Null Count  Dtype \n",
      "---  ------       --------------  ----- \n",
      " 0   user_id      88310 non-null  object\n",
      " 1   items_count  88310 non-null  int64 \n",
      " 2   steam_id     88310 non-null  object\n",
      " 3   user_url     88310 non-null  object\n",
      " 4   items        88310 non-null  object\n",
      "dtypes: int64(1), object(4)\n",
      "memory usage: 3.4+ MB\n"
     ]
    },
    {
     "data": {
      "text/html": [
       "<div>\n",
       "<style scoped>\n",
       "    .dataframe tbody tr th:only-of-type {\n",
       "        vertical-align: middle;\n",
       "    }\n",
       "\n",
       "    .dataframe tbody tr th {\n",
       "        vertical-align: top;\n",
       "    }\n",
       "\n",
       "    .dataframe thead th {\n",
       "        text-align: right;\n",
       "    }\n",
       "</style>\n",
       "<table border=\"1\" class=\"dataframe\">\n",
       "  <thead>\n",
       "    <tr style=\"text-align: right;\">\n",
       "      <th></th>\n",
       "      <th>user_id</th>\n",
       "      <th>items_count</th>\n",
       "      <th>steam_id</th>\n",
       "      <th>user_url</th>\n",
       "      <th>items</th>\n",
       "    </tr>\n",
       "  </thead>\n",
       "  <tbody>\n",
       "    <tr>\n",
       "      <th>0</th>\n",
       "      <td>76561197970982479</td>\n",
       "      <td>277</td>\n",
       "      <td>76561197970982479</td>\n",
       "      <td>http://steamcommunity.com/profiles/76561197970...</td>\n",
       "      <td>[{'item_id': '10', 'item_name': 'Counter-Strik...</td>\n",
       "    </tr>\n",
       "    <tr>\n",
       "      <th>1</th>\n",
       "      <td>js41637</td>\n",
       "      <td>888</td>\n",
       "      <td>76561198035864385</td>\n",
       "      <td>http://steamcommunity.com/id/js41637</td>\n",
       "      <td>[{'item_id': '10', 'item_name': 'Counter-Strik...</td>\n",
       "    </tr>\n",
       "    <tr>\n",
       "      <th>2</th>\n",
       "      <td>evcentric</td>\n",
       "      <td>137</td>\n",
       "      <td>76561198007712555</td>\n",
       "      <td>http://steamcommunity.com/id/evcentric</td>\n",
       "      <td>[{'item_id': '1200', 'item_name': 'Red Orchest...</td>\n",
       "    </tr>\n",
       "    <tr>\n",
       "      <th>3</th>\n",
       "      <td>Riot-Punch</td>\n",
       "      <td>328</td>\n",
       "      <td>76561197963445855</td>\n",
       "      <td>http://steamcommunity.com/id/Riot-Punch</td>\n",
       "      <td>[{'item_id': '10', 'item_name': 'Counter-Strik...</td>\n",
       "    </tr>\n",
       "    <tr>\n",
       "      <th>4</th>\n",
       "      <td>doctr</td>\n",
       "      <td>541</td>\n",
       "      <td>76561198002099482</td>\n",
       "      <td>http://steamcommunity.com/id/doctr</td>\n",
       "      <td>[{'item_id': '300', 'item_name': 'Day of Defea...</td>\n",
       "    </tr>\n",
       "  </tbody>\n",
       "</table>\n",
       "</div>"
      ],
      "text/plain": [
       "             user_id  items_count           steam_id  \\\n",
       "0  76561197970982479          277  76561197970982479   \n",
       "1            js41637          888  76561198035864385   \n",
       "2          evcentric          137  76561198007712555   \n",
       "3         Riot-Punch          328  76561197963445855   \n",
       "4              doctr          541  76561198002099482   \n",
       "\n",
       "                                            user_url  \\\n",
       "0  http://steamcommunity.com/profiles/76561197970...   \n",
       "1               http://steamcommunity.com/id/js41637   \n",
       "2             http://steamcommunity.com/id/evcentric   \n",
       "3            http://steamcommunity.com/id/Riot-Punch   \n",
       "4                 http://steamcommunity.com/id/doctr   \n",
       "\n",
       "                                               items  \n",
       "0  [{'item_id': '10', 'item_name': 'Counter-Strik...  \n",
       "1  [{'item_id': '10', 'item_name': 'Counter-Strik...  \n",
       "2  [{'item_id': '1200', 'item_name': 'Red Orchest...  \n",
       "3  [{'item_id': '10', 'item_name': 'Counter-Strik...  \n",
       "4  [{'item_id': '300', 'item_name': 'Day of Defea...  "
      ]
     },
     "execution_count": 2,
     "metadata": {},
     "output_type": "execute_result"
    }
   ],
   "source": [
    "df.info()\n",
    "df.head()"
   ]
  },
  {
   "cell_type": "markdown",
   "metadata": {},
   "source": [
    "Creamos una funcion llamada ***extract_game_data***\n",
    "\n",
    "Creamos una lista vacía llamada user_data para almacenar los datos desanidados de cada juego para el usuario.\n",
    "\n",
    "Iteramos sobre cada juego en la lista de items utilizando un bucle for.\n",
    "\n",
    "Para cada juego, extraemos información relevante, como el ID del juego, el nombre del juego, el tiempo de juego total y el tiempo de juego en las últimas 2 semanas, utilizando item.get('clave', valor_predeterminado) para asegurarnos de que obtengamos valores predeterminados si alguna clave no está presente en el diccionario del juego.\n",
    "\n",
    "Creamos un diccionario llamado game_data que contiene esta información y lo agregamos a la lista user_data.\n",
    "\n",
    "Finalmente, la función devuelve la lista user_data que contiene los datos desanidados de todos los juegos para el usuario."
   ]
  },
  {
   "cell_type": "code",
   "execution_count": 3,
   "metadata": {},
   "outputs": [
    {
     "name": "stdout",
     "output_type": "stream",
     "text": [
      "             user_id item_id                  item_name  playtime_forever  \\\n",
      "0  76561197970982479      10             Counter-Strike                 6   \n",
      "1  76561197970982479      20      Team Fortress Classic                 0   \n",
      "2  76561197970982479      30              Day of Defeat                 7   \n",
      "3  76561197970982479      40         Deathmatch Classic                 0   \n",
      "4  76561197970982479      50  Half-Life: Opposing Force                 0   \n",
      "\n",
      "   playtime_2weeks  \n",
      "0                0  \n",
      "1                0  \n",
      "2                0  \n",
      "3                0  \n",
      "4                0  \n"
     ]
    }
   ],
   "source": [
    "### Función para extraer información de cada juego en la lista 'items'\n",
    "def extract_game_data(items_list, user_id):\n",
    "    \n",
    "    user_data = []\n",
    "    \n",
    "    ### Iterar sobre cada juego en la lista de 'items'\n",
    "    for item in items_list:\n",
    "        ### Extraer información del juego\n",
    "        game_data = {\n",
    "            'user_id': user_id,\n",
    "            'item_id': item.get('item_id', ''),\n",
    "            'item_name': item.get('item_name', ''),\n",
    "            'playtime_forever': item.get('playtime_forever', 0),\n",
    "            'playtime_2weeks': item.get('playtime_2weeks', 0)\n",
    "        }\n",
    "        user_data.append(game_data)\n",
    "    \n",
    "    return user_data\n",
    "\n",
    "### Lista para guardar los datos desanidados de todos los usuarios\n",
    "all_data = []\n",
    "\n",
    "### Iterar sobre cada fila del DataFrame\n",
    "for index, row in df.iterrows():\n",
    "    ### Aplicar la función de desanidamiento\n",
    "    user_games = extract_game_data(row['items'], row['user_id'])\n",
    "    all_data.extend(user_games)\n",
    "\n",
    "### Convertir la lista de diccionarios a DataFrame\n",
    "df_desanidado = pd.DataFrame(all_data)\n",
    "\n",
    "### Ahora 'df_desanidado' contiene la información desanidada\n",
    "print(df_desanidado.head())"
   ]
  },
  {
   "cell_type": "code",
   "execution_count": 4,
   "metadata": {},
   "outputs": [
    {
     "name": "stdout",
     "output_type": "stream",
     "text": [
      "<class 'pandas.core.frame.DataFrame'>\n",
      "RangeIndex: 5153209 entries, 0 to 5153208\n",
      "Data columns (total 5 columns):\n",
      " #   Column            Dtype \n",
      "---  ------            ----- \n",
      " 0   user_id           object\n",
      " 1   item_id           object\n",
      " 2   item_name         object\n",
      " 3   playtime_forever  int64 \n",
      " 4   playtime_2weeks   int64 \n",
      "dtypes: int64(2), object(3)\n",
      "memory usage: 196.6+ MB\n"
     ]
    },
    {
     "data": {
      "text/html": [
       "<div>\n",
       "<style scoped>\n",
       "    .dataframe tbody tr th:only-of-type {\n",
       "        vertical-align: middle;\n",
       "    }\n",
       "\n",
       "    .dataframe tbody tr th {\n",
       "        vertical-align: top;\n",
       "    }\n",
       "\n",
       "    .dataframe thead th {\n",
       "        text-align: right;\n",
       "    }\n",
       "</style>\n",
       "<table border=\"1\" class=\"dataframe\">\n",
       "  <thead>\n",
       "    <tr style=\"text-align: right;\">\n",
       "      <th></th>\n",
       "      <th>user_id</th>\n",
       "      <th>item_id</th>\n",
       "      <th>item_name</th>\n",
       "      <th>playtime_forever</th>\n",
       "      <th>playtime_2weeks</th>\n",
       "    </tr>\n",
       "  </thead>\n",
       "  <tbody>\n",
       "    <tr>\n",
       "      <th>0</th>\n",
       "      <td>76561197970982479</td>\n",
       "      <td>10</td>\n",
       "      <td>Counter-Strike</td>\n",
       "      <td>6</td>\n",
       "      <td>0</td>\n",
       "    </tr>\n",
       "    <tr>\n",
       "      <th>1</th>\n",
       "      <td>76561197970982479</td>\n",
       "      <td>20</td>\n",
       "      <td>Team Fortress Classic</td>\n",
       "      <td>0</td>\n",
       "      <td>0</td>\n",
       "    </tr>\n",
       "    <tr>\n",
       "      <th>2</th>\n",
       "      <td>76561197970982479</td>\n",
       "      <td>30</td>\n",
       "      <td>Day of Defeat</td>\n",
       "      <td>7</td>\n",
       "      <td>0</td>\n",
       "    </tr>\n",
       "    <tr>\n",
       "      <th>3</th>\n",
       "      <td>76561197970982479</td>\n",
       "      <td>40</td>\n",
       "      <td>Deathmatch Classic</td>\n",
       "      <td>0</td>\n",
       "      <td>0</td>\n",
       "    </tr>\n",
       "    <tr>\n",
       "      <th>4</th>\n",
       "      <td>76561197970982479</td>\n",
       "      <td>50</td>\n",
       "      <td>Half-Life: Opposing Force</td>\n",
       "      <td>0</td>\n",
       "      <td>0</td>\n",
       "    </tr>\n",
       "  </tbody>\n",
       "</table>\n",
       "</div>"
      ],
      "text/plain": [
       "             user_id item_id                  item_name  playtime_forever  \\\n",
       "0  76561197970982479      10             Counter-Strike                 6   \n",
       "1  76561197970982479      20      Team Fortress Classic                 0   \n",
       "2  76561197970982479      30              Day of Defeat                 7   \n",
       "3  76561197970982479      40         Deathmatch Classic                 0   \n",
       "4  76561197970982479      50  Half-Life: Opposing Force                 0   \n",
       "\n",
       "   playtime_2weeks  \n",
       "0                0  \n",
       "1                0  \n",
       "2                0  \n",
       "3                0  \n",
       "4                0  "
      ]
     },
     "execution_count": 4,
     "metadata": {},
     "output_type": "execute_result"
    }
   ],
   "source": [
    "df_desanidado.info()\n",
    "df_desanidado.head()"
   ]
  },
  {
   "cell_type": "markdown",
   "metadata": {},
   "source": [
    "Al ser porcas columnas las dejamos todas tal ves pueda hacer algo con ellas mas adelante\n",
    "\n",
    "Convertimos el df a un archivo csv ya que me parece un mejor formato para manejar"
   ]
  },
  {
   "cell_type": "code",
   "execution_count": 6,
   "metadata": {},
   "outputs": [
    {
     "name": "stdout",
     "output_type": "stream",
     "text": [
      "Cantidad de valores con datos en la columna \"mi_columna\": 5153209\n"
     ]
    }
   ],
   "source": [
    "cantidad_valores_con_datos = df_desanidado['item_name'].count()\n",
    "\n",
    "# Imprime la cantidad de valores con datos en la columna 'mi_columna'\n",
    "print(f'Cantidad de valores con datos en la columna \"mi_columna\": {cantidad_valores_con_datos}')"
   ]
  },
  {
   "cell_type": "code",
   "execution_count": 46,
   "metadata": {},
   "outputs": [],
   "source": [
    "df.to_csv('aust_users_items.csv', index=False)"
   ]
  },
  {
   "cell_type": "code",
   "execution_count": 47,
   "metadata": {},
   "outputs": [],
   "source": [
    "df_desanidado.to_csv('aust_users_play_name.csv', index=False)"
   ]
  }
 ],
 "metadata": {
  "kernelspec": {
   "display_name": "Python 3",
   "language": "python",
   "name": "python3"
  },
  "language_info": {
   "codemirror_mode": {
    "name": "ipython",
    "version": 3
   },
   "file_extension": ".py",
   "mimetype": "text/x-python",
   "name": "python",
   "nbconvert_exporter": "python",
   "pygments_lexer": "ipython3",
   "version": "3.12.1"
  }
 },
 "nbformat": 4,
 "nbformat_minor": 2
}
